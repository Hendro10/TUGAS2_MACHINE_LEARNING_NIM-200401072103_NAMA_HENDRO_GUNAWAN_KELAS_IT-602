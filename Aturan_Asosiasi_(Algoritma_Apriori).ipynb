{
  "nbformat": 4,
  "nbformat_minor": 0,
  "metadata": {
    "colab": {
      "provenance": []
    },
    "kernelspec": {
      "name": "python3",
      "display_name": "Python 3"
    },
    "language_info": {
      "name": "python"
    }
  },
  "cells": [
    {
      "cell_type": "markdown",
      "source": [
        "APRIORI"
      ],
      "metadata": {
        "id": "sQeshMH145bI"
      }
    },
    {
      "cell_type": "markdown",
      "source": [
        "1. Import Library"
      ],
      "metadata": {
        "id": "kGmGv-zT5MaM"
      }
    },
    {
      "cell_type": "code",
      "execution_count": 67,
      "metadata": {
        "colab": {
          "base_uri": "https://localhost:8080/"
        },
        "id": "XfhY8awK4vEO",
        "outputId": "e876db37-7489-42f5-9383-f5a9cdf838d6"
      },
      "outputs": [
        {
          "output_type": "stream",
          "name": "stdout",
          "text": [
            "Requirement already satisfied: apyori in /usr/local/lib/python3.10/dist-packages (1.1.2)\n"
          ]
        }
      ],
      "source": [
        "!pip install apyori"
      ]
    },
    {
      "cell_type": "code",
      "source": [
        "import numpy as np\n",
        "import matplotlib.pyplot as plt\n",
        "import pandas as pd"
      ],
      "metadata": {
        "id": "basvNpSH5IFf"
      },
      "execution_count": 68,
      "outputs": []
    },
    {
      "cell_type": "markdown",
      "source": [
        "2. Pra Proses Data"
      ],
      "metadata": {
        "id": "d3hobuLj5zSt"
      }
    },
    {
      "cell_type": "code",
      "source": [
        "# Mounted At/Content/Drive\n",
        "from google.colab import drive\n",
        "drive.mount('/content/drive')"
      ],
      "metadata": {
        "colab": {
          "base_uri": "https://localhost:8080/"
        },
        "id": "xwaTNNnA7MG-",
        "outputId": "f5673df1-4a9d-49d4-c75b-dc11d4082db0"
      },
      "execution_count": 69,
      "outputs": [
        {
          "output_type": "stream",
          "name": "stdout",
          "text": [
            "Drive already mounted at /content/drive; to attempt to forcibly remount, call drive.mount(\"/content/drive\", force_remount=True).\n"
          ]
        }
      ]
    },
    {
      "cell_type": "code",
      "source": [
        "dataset = pd.read_csv('/content/drive/MyDrive/KuliahUNSIA/Semester5/MachineLearning/Peretmuan16/Tugas2/Grocery_Store_DataSet.csv', header = None)\n",
        "transactions = []\n",
        "for i in range(0, 7501):\n",
        "  transactions.append([str(dataset.values[i,j]) for j in range(0, 20)])"
      ],
      "metadata": {
        "id": "IUdJp4br5n34"
      },
      "execution_count": 70,
      "outputs": []
    },
    {
      "cell_type": "code",
      "source": [
        "print(dataset)"
      ],
      "metadata": {
        "colab": {
          "base_uri": "https://localhost:8080/"
        },
        "id": "vorkzvjeUjxK",
        "outputId": "d986e1af-1674-481f-d659-4c5578cd09b5"
      },
      "execution_count": 71,
      "outputs": [
        {
          "output_type": "stream",
          "name": "stdout",
          "text": [
            "           0                    1                    2                 3   \\\n",
            "0     Item(s)               Item 1               Item 2            Item 3   \n",
            "1           4         citrus fruit  semi-finished bread         margarine   \n",
            "2           3       tropical fruit               yogurt            coffee   \n",
            "3           1           whole milk                  NaN               NaN   \n",
            "4           4            pip fruit               yogurt      cream cheese   \n",
            "...       ...                  ...                  ...               ...   \n",
            "9831       17              sausage              chicken              beef   \n",
            "9832        1    cooking chocolate                  NaN               NaN   \n",
            "9833       10              chicken         citrus fruit  other vegetables   \n",
            "9834        4  semi-finished bread        bottled water              soda   \n",
            "9835        5              chicken       tropical fruit  other vegetables   \n",
            "\n",
            "                  4              5               6                7   \\\n",
            "0             Item 4         Item 5          Item 6           Item 7   \n",
            "1        ready soups            NaN             NaN              NaN   \n",
            "2                NaN            NaN             NaN              NaN   \n",
            "3                NaN            NaN             NaN              NaN   \n",
            "4       meat spreads            NaN             NaN              NaN   \n",
            "...              ...            ...             ...              ...   \n",
            "9831  hamburger meat   citrus fruit          grapes  root vegetables   \n",
            "9832             NaN            NaN             NaN              NaN   \n",
            "9833          butter         yogurt  frozen dessert    domestic eggs   \n",
            "9834    bottled beer            NaN             NaN              NaN   \n",
            "9835         vinegar  shopping bags             NaN              NaN   \n",
            "\n",
            "              8       9   ...       23       24       25       26       27  \\\n",
            "0         Item 8  Item 9  ...  Item 23  Item 24  Item 25  Item 26  Item 27   \n",
            "1            NaN     NaN  ...      NaN      NaN      NaN      NaN      NaN   \n",
            "2            NaN     NaN  ...      NaN      NaN      NaN      NaN      NaN   \n",
            "3            NaN     NaN  ...      NaN      NaN      NaN      NaN      NaN   \n",
            "4            NaN     NaN  ...      NaN      NaN      NaN      NaN      NaN   \n",
            "...          ...     ...  ...      ...      ...      ...      ...      ...   \n",
            "9831  whole milk  butter  ...      NaN      NaN      NaN      NaN      NaN   \n",
            "9832         NaN     NaN  ...      NaN      NaN      NaN      NaN      NaN   \n",
            "9833  rolls/buns     rum  ...      NaN      NaN      NaN      NaN      NaN   \n",
            "9834         NaN     NaN  ...      NaN      NaN      NaN      NaN      NaN   \n",
            "9835         NaN     NaN  ...      NaN      NaN      NaN      NaN      NaN   \n",
            "\n",
            "           28       29       30       31       32  \n",
            "0     Item 28  Item 29  Item 30  Item 31  Item 32  \n",
            "1         NaN      NaN      NaN      NaN      NaN  \n",
            "2         NaN      NaN      NaN      NaN      NaN  \n",
            "3         NaN      NaN      NaN      NaN      NaN  \n",
            "4         NaN      NaN      NaN      NaN      NaN  \n",
            "...       ...      ...      ...      ...      ...  \n",
            "9831      NaN      NaN      NaN      NaN      NaN  \n",
            "9832      NaN      NaN      NaN      NaN      NaN  \n",
            "9833      NaN      NaN      NaN      NaN      NaN  \n",
            "9834      NaN      NaN      NaN      NaN      NaN  \n",
            "9835      NaN      NaN      NaN      NaN      NaN  \n",
            "\n",
            "[9836 rows x 33 columns]\n"
          ]
        }
      ]
    },
    {
      "cell_type": "markdown",
      "source": [
        "3. Menampilkan Sebanyak 5 Data Teratas"
      ],
      "metadata": {
        "id": "yeyf8hDsV1ys"
      }
    },
    {
      "cell_type": "code",
      "source": [
        "df= dataset = pd.read_csv('/content/drive/MyDrive/KuliahUNSIA/Semester5/MachineLearning/Peretmuan16/Tugas2/Grocery_Store_DataSet.csv', header = None)\n",
        "df.head(5)"
      ],
      "metadata": {
        "colab": {
          "base_uri": "https://localhost:8080/",
          "height": 383
        },
        "id": "nFA0T8y2U9Ww",
        "outputId": "9197eebc-9d82-46ea-f8a6-3ffa9a686243"
      },
      "execution_count": 74,
      "outputs": [
        {
          "output_type": "execute_result",
          "data": {
            "text/plain": [
              "        0               1                    2             3             4   \\\n",
              "0  Item(s)          Item 1               Item 2        Item 3        Item 4   \n",
              "1        4    citrus fruit  semi-finished bread     margarine   ready soups   \n",
              "2        3  tropical fruit               yogurt        coffee           NaN   \n",
              "3        1      whole milk                  NaN           NaN           NaN   \n",
              "4        4       pip fruit               yogurt  cream cheese  meat spreads   \n",
              "\n",
              "       5       6       7       8       9   ...       23       24       25  \\\n",
              "0  Item 5  Item 6  Item 7  Item 8  Item 9  ...  Item 23  Item 24  Item 25   \n",
              "1     NaN     NaN     NaN     NaN     NaN  ...      NaN      NaN      NaN   \n",
              "2     NaN     NaN     NaN     NaN     NaN  ...      NaN      NaN      NaN   \n",
              "3     NaN     NaN     NaN     NaN     NaN  ...      NaN      NaN      NaN   \n",
              "4     NaN     NaN     NaN     NaN     NaN  ...      NaN      NaN      NaN   \n",
              "\n",
              "        26       27       28       29       30       31       32  \n",
              "0  Item 26  Item 27  Item 28  Item 29  Item 30  Item 31  Item 32  \n",
              "1      NaN      NaN      NaN      NaN      NaN      NaN      NaN  \n",
              "2      NaN      NaN      NaN      NaN      NaN      NaN      NaN  \n",
              "3      NaN      NaN      NaN      NaN      NaN      NaN      NaN  \n",
              "4      NaN      NaN      NaN      NaN      NaN      NaN      NaN  \n",
              "\n",
              "[5 rows x 33 columns]"
            ],
            "text/html": [
              "\n",
              "\n",
              "  <div id=\"df-513b887c-6e03-4866-b2c0-324cf29d3a2f\">\n",
              "    <div class=\"colab-df-container\">\n",
              "      <div>\n",
              "<style scoped>\n",
              "    .dataframe tbody tr th:only-of-type {\n",
              "        vertical-align: middle;\n",
              "    }\n",
              "\n",
              "    .dataframe tbody tr th {\n",
              "        vertical-align: top;\n",
              "    }\n",
              "\n",
              "    .dataframe thead th {\n",
              "        text-align: right;\n",
              "    }\n",
              "</style>\n",
              "<table border=\"1\" class=\"dataframe\">\n",
              "  <thead>\n",
              "    <tr style=\"text-align: right;\">\n",
              "      <th></th>\n",
              "      <th>0</th>\n",
              "      <th>1</th>\n",
              "      <th>2</th>\n",
              "      <th>3</th>\n",
              "      <th>4</th>\n",
              "      <th>5</th>\n",
              "      <th>6</th>\n",
              "      <th>7</th>\n",
              "      <th>8</th>\n",
              "      <th>9</th>\n",
              "      <th>...</th>\n",
              "      <th>23</th>\n",
              "      <th>24</th>\n",
              "      <th>25</th>\n",
              "      <th>26</th>\n",
              "      <th>27</th>\n",
              "      <th>28</th>\n",
              "      <th>29</th>\n",
              "      <th>30</th>\n",
              "      <th>31</th>\n",
              "      <th>32</th>\n",
              "    </tr>\n",
              "  </thead>\n",
              "  <tbody>\n",
              "    <tr>\n",
              "      <th>0</th>\n",
              "      <td>Item(s)</td>\n",
              "      <td>Item 1</td>\n",
              "      <td>Item 2</td>\n",
              "      <td>Item 3</td>\n",
              "      <td>Item 4</td>\n",
              "      <td>Item 5</td>\n",
              "      <td>Item 6</td>\n",
              "      <td>Item 7</td>\n",
              "      <td>Item 8</td>\n",
              "      <td>Item 9</td>\n",
              "      <td>...</td>\n",
              "      <td>Item 23</td>\n",
              "      <td>Item 24</td>\n",
              "      <td>Item 25</td>\n",
              "      <td>Item 26</td>\n",
              "      <td>Item 27</td>\n",
              "      <td>Item 28</td>\n",
              "      <td>Item 29</td>\n",
              "      <td>Item 30</td>\n",
              "      <td>Item 31</td>\n",
              "      <td>Item 32</td>\n",
              "    </tr>\n",
              "    <tr>\n",
              "      <th>1</th>\n",
              "      <td>4</td>\n",
              "      <td>citrus fruit</td>\n",
              "      <td>semi-finished bread</td>\n",
              "      <td>margarine</td>\n",
              "      <td>ready soups</td>\n",
              "      <td>NaN</td>\n",
              "      <td>NaN</td>\n",
              "      <td>NaN</td>\n",
              "      <td>NaN</td>\n",
              "      <td>NaN</td>\n",
              "      <td>...</td>\n",
              "      <td>NaN</td>\n",
              "      <td>NaN</td>\n",
              "      <td>NaN</td>\n",
              "      <td>NaN</td>\n",
              "      <td>NaN</td>\n",
              "      <td>NaN</td>\n",
              "      <td>NaN</td>\n",
              "      <td>NaN</td>\n",
              "      <td>NaN</td>\n",
              "      <td>NaN</td>\n",
              "    </tr>\n",
              "    <tr>\n",
              "      <th>2</th>\n",
              "      <td>3</td>\n",
              "      <td>tropical fruit</td>\n",
              "      <td>yogurt</td>\n",
              "      <td>coffee</td>\n",
              "      <td>NaN</td>\n",
              "      <td>NaN</td>\n",
              "      <td>NaN</td>\n",
              "      <td>NaN</td>\n",
              "      <td>NaN</td>\n",
              "      <td>NaN</td>\n",
              "      <td>...</td>\n",
              "      <td>NaN</td>\n",
              "      <td>NaN</td>\n",
              "      <td>NaN</td>\n",
              "      <td>NaN</td>\n",
              "      <td>NaN</td>\n",
              "      <td>NaN</td>\n",
              "      <td>NaN</td>\n",
              "      <td>NaN</td>\n",
              "      <td>NaN</td>\n",
              "      <td>NaN</td>\n",
              "    </tr>\n",
              "    <tr>\n",
              "      <th>3</th>\n",
              "      <td>1</td>\n",
              "      <td>whole milk</td>\n",
              "      <td>NaN</td>\n",
              "      <td>NaN</td>\n",
              "      <td>NaN</td>\n",
              "      <td>NaN</td>\n",
              "      <td>NaN</td>\n",
              "      <td>NaN</td>\n",
              "      <td>NaN</td>\n",
              "      <td>NaN</td>\n",
              "      <td>...</td>\n",
              "      <td>NaN</td>\n",
              "      <td>NaN</td>\n",
              "      <td>NaN</td>\n",
              "      <td>NaN</td>\n",
              "      <td>NaN</td>\n",
              "      <td>NaN</td>\n",
              "      <td>NaN</td>\n",
              "      <td>NaN</td>\n",
              "      <td>NaN</td>\n",
              "      <td>NaN</td>\n",
              "    </tr>\n",
              "    <tr>\n",
              "      <th>4</th>\n",
              "      <td>4</td>\n",
              "      <td>pip fruit</td>\n",
              "      <td>yogurt</td>\n",
              "      <td>cream cheese</td>\n",
              "      <td>meat spreads</td>\n",
              "      <td>NaN</td>\n",
              "      <td>NaN</td>\n",
              "      <td>NaN</td>\n",
              "      <td>NaN</td>\n",
              "      <td>NaN</td>\n",
              "      <td>...</td>\n",
              "      <td>NaN</td>\n",
              "      <td>NaN</td>\n",
              "      <td>NaN</td>\n",
              "      <td>NaN</td>\n",
              "      <td>NaN</td>\n",
              "      <td>NaN</td>\n",
              "      <td>NaN</td>\n",
              "      <td>NaN</td>\n",
              "      <td>NaN</td>\n",
              "      <td>NaN</td>\n",
              "    </tr>\n",
              "  </tbody>\n",
              "</table>\n",
              "<p>5 rows × 33 columns</p>\n",
              "</div>\n",
              "      <button class=\"colab-df-convert\" onclick=\"convertToInteractive('df-513b887c-6e03-4866-b2c0-324cf29d3a2f')\"\n",
              "              title=\"Convert this dataframe to an interactive table.\"\n",
              "              style=\"display:none;\">\n",
              "\n",
              "  <svg xmlns=\"http://www.w3.org/2000/svg\" height=\"24px\"viewBox=\"0 0 24 24\"\n",
              "       width=\"24px\">\n",
              "    <path d=\"M0 0h24v24H0V0z\" fill=\"none\"/>\n",
              "    <path d=\"M18.56 5.44l.94 2.06.94-2.06 2.06-.94-2.06-.94-.94-2.06-.94 2.06-2.06.94zm-11 1L8.5 8.5l.94-2.06 2.06-.94-2.06-.94L8.5 2.5l-.94 2.06-2.06.94zm10 10l.94 2.06.94-2.06 2.06-.94-2.06-.94-.94-2.06-.94 2.06-2.06.94z\"/><path d=\"M17.41 7.96l-1.37-1.37c-.4-.4-.92-.59-1.43-.59-.52 0-1.04.2-1.43.59L10.3 9.45l-7.72 7.72c-.78.78-.78 2.05 0 2.83L4 21.41c.39.39.9.59 1.41.59.51 0 1.02-.2 1.41-.59l7.78-7.78 2.81-2.81c.8-.78.8-2.07 0-2.86zM5.41 20L4 18.59l7.72-7.72 1.47 1.35L5.41 20z\"/>\n",
              "  </svg>\n",
              "      </button>\n",
              "\n",
              "\n",
              "\n",
              "    <div id=\"df-607e3a45-f722-47f2-899e-f4aba199a983\">\n",
              "      <button class=\"colab-df-quickchart\" onclick=\"quickchart('df-607e3a45-f722-47f2-899e-f4aba199a983')\"\n",
              "              title=\"Suggest charts.\"\n",
              "              style=\"display:none;\">\n",
              "\n",
              "<svg xmlns=\"http://www.w3.org/2000/svg\" height=\"24px\"viewBox=\"0 0 24 24\"\n",
              "     width=\"24px\">\n",
              "    <g>\n",
              "        <path d=\"M19 3H5c-1.1 0-2 .9-2 2v14c0 1.1.9 2 2 2h14c1.1 0 2-.9 2-2V5c0-1.1-.9-2-2-2zM9 17H7v-7h2v7zm4 0h-2V7h2v10zm4 0h-2v-4h2v4z\"/>\n",
              "    </g>\n",
              "</svg>\n",
              "      </button>\n",
              "    </div>\n",
              "\n",
              "<style>\n",
              "  .colab-df-quickchart {\n",
              "    background-color: #E8F0FE;\n",
              "    border: none;\n",
              "    border-radius: 50%;\n",
              "    cursor: pointer;\n",
              "    display: none;\n",
              "    fill: #1967D2;\n",
              "    height: 32px;\n",
              "    padding: 0 0 0 0;\n",
              "    width: 32px;\n",
              "  }\n",
              "\n",
              "  .colab-df-quickchart:hover {\n",
              "    background-color: #E2EBFA;\n",
              "    box-shadow: 0px 1px 2px rgba(60, 64, 67, 0.3), 0px 1px 3px 1px rgba(60, 64, 67, 0.15);\n",
              "    fill: #174EA6;\n",
              "  }\n",
              "\n",
              "  [theme=dark] .colab-df-quickchart {\n",
              "    background-color: #3B4455;\n",
              "    fill: #D2E3FC;\n",
              "  }\n",
              "\n",
              "  [theme=dark] .colab-df-quickchart:hover {\n",
              "    background-color: #434B5C;\n",
              "    box-shadow: 0px 1px 3px 1px rgba(0, 0, 0, 0.15);\n",
              "    filter: drop-shadow(0px 1px 2px rgba(0, 0, 0, 0.3));\n",
              "    fill: #FFFFFF;\n",
              "  }\n",
              "</style>\n",
              "\n",
              "    <script>\n",
              "      async function quickchart(key) {\n",
              "        const containerElement = document.querySelector('#' + key);\n",
              "        const charts = await google.colab.kernel.invokeFunction(\n",
              "            'suggestCharts', [key], {});\n",
              "      }\n",
              "    </script>\n",
              "\n",
              "      <script>\n",
              "\n",
              "function displayQuickchartButton(domScope) {\n",
              "  let quickchartButtonEl =\n",
              "    domScope.querySelector('#df-607e3a45-f722-47f2-899e-f4aba199a983 button.colab-df-quickchart');\n",
              "  quickchartButtonEl.style.display =\n",
              "    google.colab.kernel.accessAllowed ? 'block' : 'none';\n",
              "}\n",
              "\n",
              "        displayQuickchartButton(document);\n",
              "      </script>\n",
              "      <style>\n",
              "    .colab-df-container {\n",
              "      display:flex;\n",
              "      flex-wrap:wrap;\n",
              "      gap: 12px;\n",
              "    }\n",
              "\n",
              "    .colab-df-convert {\n",
              "      background-color: #E8F0FE;\n",
              "      border: none;\n",
              "      border-radius: 50%;\n",
              "      cursor: pointer;\n",
              "      display: none;\n",
              "      fill: #1967D2;\n",
              "      height: 32px;\n",
              "      padding: 0 0 0 0;\n",
              "      width: 32px;\n",
              "    }\n",
              "\n",
              "    .colab-df-convert:hover {\n",
              "      background-color: #E2EBFA;\n",
              "      box-shadow: 0px 1px 2px rgba(60, 64, 67, 0.3), 0px 1px 3px 1px rgba(60, 64, 67, 0.15);\n",
              "      fill: #174EA6;\n",
              "    }\n",
              "\n",
              "    [theme=dark] .colab-df-convert {\n",
              "      background-color: #3B4455;\n",
              "      fill: #D2E3FC;\n",
              "    }\n",
              "\n",
              "    [theme=dark] .colab-df-convert:hover {\n",
              "      background-color: #434B5C;\n",
              "      box-shadow: 0px 1px 3px 1px rgba(0, 0, 0, 0.15);\n",
              "      filter: drop-shadow(0px 1px 2px rgba(0, 0, 0, 0.3));\n",
              "      fill: #FFFFFF;\n",
              "    }\n",
              "  </style>\n",
              "\n",
              "      <script>\n",
              "        const buttonEl =\n",
              "          document.querySelector('#df-513b887c-6e03-4866-b2c0-324cf29d3a2f button.colab-df-convert');\n",
              "        buttonEl.style.display =\n",
              "          google.colab.kernel.accessAllowed ? 'block' : 'none';\n",
              "\n",
              "        async function convertToInteractive(key) {\n",
              "          const element = document.querySelector('#df-513b887c-6e03-4866-b2c0-324cf29d3a2f');\n",
              "          const dataTable =\n",
              "            await google.colab.kernel.invokeFunction('convertToInteractive',\n",
              "                                                     [key], {});\n",
              "          if (!dataTable) return;\n",
              "\n",
              "          const docLinkHtml = 'Like what you see? Visit the ' +\n",
              "            '<a target=\"_blank\" href=https://colab.research.google.com/notebooks/data_table.ipynb>data table notebook</a>'\n",
              "            + ' to learn more about interactive tables.';\n",
              "          element.innerHTML = '';\n",
              "          dataTable['output_type'] = 'display_data';\n",
              "          await google.colab.output.renderOutput(dataTable, element);\n",
              "          const docLink = document.createElement('div');\n",
              "          docLink.innerHTML = docLinkHtml;\n",
              "          element.appendChild(docLink);\n",
              "        }\n",
              "      </script>\n",
              "    </div>\n",
              "  </div>\n"
            ]
          },
          "metadata": {},
          "execution_count": 74
        }
      ]
    },
    {
      "cell_type": "markdown",
      "source": [
        "4. Melihat Variabel dalam Dataset"
      ],
      "metadata": {
        "id": "clFBej9zsuOW"
      }
    },
    {
      "cell_type": "code",
      "source": [
        "df.keys()"
      ],
      "metadata": {
        "colab": {
          "base_uri": "https://localhost:8080/"
        },
        "id": "kYmKHfZTqEsA",
        "outputId": "fa78163b-3fad-418c-bcd1-1f5060131922"
      },
      "execution_count": 75,
      "outputs": [
        {
          "output_type": "execute_result",
          "data": {
            "text/plain": [
              "Int64Index([ 0,  1,  2,  3,  4,  5,  6,  7,  8,  9, 10, 11, 12, 13, 14, 15, 16,\n",
              "            17, 18, 19, 20, 21, 22, 23, 24, 25, 26, 27, 28, 29, 30, 31, 32],\n",
              "           dtype='int64')"
            ]
          },
          "metadata": {},
          "execution_count": 75
        }
      ]
    },
    {
      "cell_type": "markdown",
      "source": [
        "5. Melihat Shape"
      ],
      "metadata": {
        "id": "DYLQWJQ7V8S1"
      }
    },
    {
      "cell_type": "code",
      "source": [
        "df.shape"
      ],
      "metadata": {
        "colab": {
          "base_uri": "https://localhost:8080/"
        },
        "id": "NTFTFp6iWA2U",
        "outputId": "76a25ff0-d67c-42f5-ec97-e8d3e2932446"
      },
      "execution_count": 76,
      "outputs": [
        {
          "output_type": "execute_result",
          "data": {
            "text/plain": [
              "(9836, 33)"
            ]
          },
          "metadata": {},
          "execution_count": 76
        }
      ]
    },
    {
      "cell_type": "markdown",
      "source": [
        "Di sini terlihat bahwa terdapat 9836 baris dan 33 kolom."
      ],
      "metadata": {
        "id": "VbZ4FdGAgKlP"
      }
    },
    {
      "cell_type": "markdown",
      "source": [
        "6. Training Apriori"
      ],
      "metadata": {
        "id": "_dx36fda7nMz"
      }
    },
    {
      "cell_type": "code",
      "source": [
        "from apyori import apriori\n",
        "rules = apriori(transactions = transactions, min_support = 0.003, min_confidence = 0.2, min_lift = 3, min_length = 2, max_length = 2)"
      ],
      "metadata": {
        "id": "Q0R6nDg77y1H"
      },
      "execution_count": 77,
      "outputs": []
    },
    {
      "cell_type": "markdown",
      "source": [
        "7. Menampilkan Hasil Training"
      ],
      "metadata": {
        "id": "0lfVqGCc78ft"
      }
    },
    {
      "cell_type": "code",
      "source": [
        "results = list(rules)\n",
        "for rule in results:\n",
        "  print(rule)"
      ],
      "metadata": {
        "colab": {
          "base_uri": "https://localhost:8080/"
        },
        "id": "ohGS1V6Q7430",
        "outputId": "79f2ed9c-c294-452f-f0d4-62b4b37edf09"
      },
      "execution_count": 78,
      "outputs": [
        {
          "output_type": "stream",
          "name": "stdout",
          "text": [
            "RelationRecord(items=frozenset({'10', 'fruit/vegetable juice'}), support=0.0061325156645780565, ordered_statistics=[OrderedStatistic(items_base=frozenset({'10'}), items_add=frozenset({'fruit/vegetable juice'}), confidence=0.25136612021857924, lift=3.46598762455802)])\n",
            "RelationRecord(items=frozenset({'10', 'margarine'}), support=0.005465937874950006, ordered_statistics=[OrderedStatistic(items_base=frozenset({'10'}), items_add=frozenset({'margarine'}), confidence=0.2240437158469945, lift=3.734559805707346)])\n",
            "RelationRecord(items=frozenset({'10', 'root vegetables'}), support=0.008132249033462205, ordered_statistics=[OrderedStatistic(items_base=frozenset({'10'}), items_add=frozenset({'root vegetables'}), confidence=0.3333333333333333, lift=3.0160836349014875)])\n",
            "RelationRecord(items=frozenset({'domestic eggs', '11'}), support=0.0038661511798426876, ordered_statistics=[OrderedStatistic(items_base=frozenset({'11'}), items_add=frozenset({'domestic eggs'}), confidence=0.21804511278195488, lift=3.379248741688933)])\n",
            "RelationRecord(items=frozenset({'margarine', '11'}), support=0.0038661511798426876, ordered_statistics=[OrderedStatistic(items_base=frozenset({'11'}), items_add=frozenset({'margarine'}), confidence=0.21804511278195488, lift=3.634569757727652)])\n",
            "RelationRecord(items=frozenset({'domestic eggs', '12'}), support=0.0034662045060658577, ordered_statistics=[OrderedStatistic(items_base=frozenset({'12'}), items_add=frozenset({'domestic eggs'}), confidence=0.2765957446808511, lift=4.286662563741868)])\n",
            "RelationRecord(items=frozenset({'fruit/vegetable juice', '12'}), support=0.003199573390214638, ordered_statistics=[OrderedStatistic(items_base=frozenset({'12'}), items_add=frozenset({'fruit/vegetable juice'}), confidence=0.25531914893617025, lift=3.5204943679599507)])\n",
            "RelationRecord(items=frozenset({'12', 'other vegetables'}), support=0.007598986801759766, ordered_statistics=[OrderedStatistic(items_base=frozenset({'12'}), items_add=frozenset({'other vegetables'}), confidence=0.6063829787234043, lift=3.1564737844581927)])\n",
            "RelationRecord(items=frozenset({'pip fruit', '12'}), support=0.003332888948140248, ordered_statistics=[OrderedStatistic(items_base=frozenset({'12'}), items_add=frozenset({'pip fruit'}), confidence=0.26595744680851063, lift=3.4455039870650053)])\n",
            "RelationRecord(items=frozenset({'12', 'root vegetables'}), support=0.004399413411545127, ordered_statistics=[OrderedStatistic(items_base=frozenset({'12'}), items_add=frozenset({'root vegetables'}), confidence=0.35106382978723405, lift=3.1765136154813542)])\n",
            "RelationRecord(items=frozenset({'tropical fruit', '12'}), support=0.0041327822956939075, ordered_statistics=[OrderedStatistic(items_base=frozenset({'12'}), items_add=frozenset({'tropical fruit'}), confidence=0.3297872340425532, lift=3.1392563991791773)])\n",
            "RelationRecord(items=frozenset({'whipped/sour cream', '12'}), support=0.003332888948140248, ordered_statistics=[OrderedStatistic(items_base=frozenset({'12'}), items_add=frozenset({'whipped/sour cream'}), confidence=0.26595744680851063, lift=3.6404138841435008)])\n",
            "RelationRecord(items=frozenset({'13', 'whipped/sour cream'}), support=0.0030662578322890282, ordered_statistics=[OrderedStatistic(items_base=frozenset({'13'}), items_add=frozenset({'whipped/sour cream'}), confidence=0.3770491803278689, lift=5.161032667225081)])\n",
            "RelationRecord(items=frozenset({'13', 'yogurt'}), support=0.0037328356219170776, ordered_statistics=[OrderedStatistic(items_base=frozenset({'13'}), items_add=frozenset({'yogurt'}), confidence=0.45901639344262296, lift=3.3427980264204997)])\n",
            "RelationRecord(items=frozenset({'other vegetables', '14'}), support=0.004932675643247567, ordered_statistics=[OrderedStatistic(items_base=frozenset({'14'}), items_add=frozenset({'other vegetables'}), confidence=0.6491228070175439, lift=3.378952238333516)])\n",
            "RelationRecord(items=frozenset({'14', 'root vegetables'}), support=0.0034662045060658577, ordered_statistics=[OrderedStatistic(items_base=frozenset({'14'}), items_add=frozenset({'root vegetables'}), confidence=0.45614035087719296, lift=4.127272342496773)])\n",
            "RelationRecord(items=frozenset({'yogurt', '14'}), support=0.003332888948140248, ordered_statistics=[OrderedStatistic(items_base=frozenset({'14'}), items_add=frozenset({'yogurt'}), confidence=0.4385964912280702, lift=3.1940895929143247)])\n",
            "RelationRecord(items=frozenset({'baking powder', 'sugar'}), support=0.0037328356219170776, ordered_statistics=[OrderedStatistic(items_base=frozenset({'baking powder'}), items_add=frozenset({'sugar'}), confidence=0.20895522388059698, lift=6.269492537313432)])\n",
            "RelationRecord(items=frozenset({'baking powder', 'whipped/sour cream'}), support=0.005065991201173177, ordered_statistics=[OrderedStatistic(items_base=frozenset({'baking powder'}), items_add=frozenset({'whipped/sour cream'}), confidence=0.2835820895522388, lift=3.8816592221374875)])\n",
            "RelationRecord(items=frozenset({'beef', 'root vegetables'}), support=0.01759765364618051, ordered_statistics=[OrderedStatistic(items_base=frozenset({'beef'}), items_add=frozenset({'root vegetables'}), confidence=0.3464566929133858, lift=3.1348270850944595)])\n",
            "RelationRecord(items=frozenset({'berries', 'whipped/sour cream'}), support=0.007732302359685375, ordered_statistics=[OrderedStatistic(items_base=frozenset({'berries'}), items_add=frozenset({'whipped/sour cream'}), confidence=0.25, lift=3.4219890510948905)])\n",
            "RelationRecord(items=frozenset({'bottled beer', 'liquor'}), support=0.004532728969470737, ordered_statistics=[OrderedStatistic(items_base=frozenset({'liquor'}), items_add=frozenset({'bottled beer'}), confidence=0.40963855421686746, lift=5.087249660895236)])\n",
            "RelationRecord(items=frozenset({'bottled beer', 'red/blush wine'}), support=0.004932675643247567, ordered_statistics=[OrderedStatistic(items_base=frozenset({'red/blush wine'}), items_add=frozenset({'bottled beer'}), confidence=0.2624113475177305, lift=3.258853506176319)])\n",
            "RelationRecord(items=frozenset({'margarine', 'flour'}), support=0.0041327822956939075, ordered_statistics=[OrderedStatistic(items_base=frozenset({'flour'}), items_add=frozenset({'margarine'}), confidence=0.23484848484848483, lift=3.9146632996632995)])\n",
            "RelationRecord(items=frozenset({'flour', 'sugar'}), support=0.005065991201173177, ordered_statistics=[OrderedStatistic(items_base=frozenset({'flour'}), items_add=frozenset({'sugar'}), confidence=0.28787878787878785, lift=8.63751515151515)])\n",
            "RelationRecord(items=frozenset({'flour', 'whipped/sour cream'}), support=0.0041327822956939075, ordered_statistics=[OrderedStatistic(items_base=frozenset({'flour'}), items_add=frozenset({'whipped/sour cream'}), confidence=0.23484848484848483, lift=3.2145957752709577)])\n",
            "RelationRecord(items=frozenset({'frankfurter', 'mustard'}), support=0.0030662578322890282, ordered_statistics=[OrderedStatistic(items_base=frozenset({'mustard'}), items_add=frozenset({'frankfurter'}), confidence=0.22999999999999998, lift=3.9209772727272725)])\n",
            "RelationRecord(items=frozenset({'processed cheese', 'fruit/vegetable juice'}), support=0.0034662045060658577, ordered_statistics=[OrderedStatistic(items_base=frozenset({'processed cheese'}), items_add=frozenset({'fruit/vegetable juice'}), confidence=0.21848739495798317, lift=3.012635936727632)])\n",
            "RelationRecord(items=frozenset({'tropical fruit', 'grapes'}), support=0.005999200106652446, ordered_statistics=[OrderedStatistic(items_base=frozenset({'grapes'}), items_add=frozenset({'tropical fruit'}), confidence=0.32608695652173914, lift=3.1040333259766055)])\n",
            "RelationRecord(items=frozenset({'processed cheese', 'ham'}), support=0.003332888948140248, ordered_statistics=[OrderedStatistic(items_base=frozenset({'processed cheese'}), items_add=frozenset({'ham'}), confidence=0.21008403361344538, lift=8.20750175070028)])\n",
            "RelationRecord(items=frozenset({'white bread', 'ham'}), support=0.005332622317024397, ordered_statistics=[OrderedStatistic(items_base=frozenset({'ham'}), items_add=frozenset({'white bread'}), confidence=0.20833333333333331, lift=4.8231738683127565)])\n",
            "RelationRecord(items=frozenset({'herbs', 'root vegetables'}), support=0.006532462338354886, ordered_statistics=[OrderedStatistic(items_base=frozenset({'herbs'}), items_add=frozenset({'root vegetables'}), confidence=0.40495867768595045, lift=3.6641677217398243)])\n",
            "RelationRecord(items=frozenset({'processed cheese', 'white bread'}), support=0.004799360085321957, ordered_statistics=[OrderedStatistic(items_base=frozenset({'processed cheese'}), items_add=frozenset({'white bread'}), confidence=0.3025210084033613, lift=7.003734827264238)])\n",
            "RelationRecord(items=frozenset({'rice', 'root vegetables'}), support=0.003199573390214638, ordered_statistics=[OrderedStatistic(items_base=frozenset({'rice'}), items_add=frozenset({'root vegetables'}), confidence=0.4067796610169492, lift=3.680644435811985)])\n",
            "RelationRecord(items=frozenset({'sliced cheese', 'sausage'}), support=0.006932409012131715, ordered_statistics=[OrderedStatistic(items_base=frozenset({'sliced cheese'}), items_add=frozenset({'sausage'}), confidence=0.30057803468208094, lift=3.239419307687197)])\n",
            "RelationRecord(items=frozenset({'tropical fruit', 'turkey'}), support=0.0030662578322890282, ordered_statistics=[OrderedStatistic(items_base=frozenset({'turkey'}), items_add=frozenset({'tropical fruit'}), confidence=0.3484848484848485, lift=3.3172396554376253)])\n"
          ]
        }
      ]
    },
    {
      "cell_type": "markdown",
      "source": [
        "8. Merubah Dataset Ke Dalam Bentuk Kolom"
      ],
      "metadata": {
        "id": "O9Us75tUgi4c"
      }
    },
    {
      "cell_type": "code",
      "source": [
        "def inspect(results):\n",
        "    lhs         = [tuple(result[2][0][0])[0] for result in results]\n",
        "    rhs         = [tuple(result[2][0][1])[0] for result in results]\n",
        "    supports    = [result[1] for result in results]\n",
        "    confidences = [result[2][0][2] for result in results]\n",
        "    lifts       = [result[2][0][3] for result in results]\n",
        "    return list(zip(lhs, rhs, supports, confidences, lifts))\n",
        "resultsinDataFrame = pd.DataFrame(inspect(results), columns = ['Left Hand Side', 'Right Hand Side', 'Support', 'Confidence', 'Lift'])"
      ],
      "metadata": {
        "id": "fydgO6HO8QfV"
      },
      "execution_count": 79,
      "outputs": []
    },
    {
      "cell_type": "markdown",
      "source": [
        "9. Melihat Hasil"
      ],
      "metadata": {
        "id": "etZEiSm2J_VU"
      }
    },
    {
      "cell_type": "code",
      "source": [
        "print(resultsinDataFrame)"
      ],
      "metadata": {
        "colab": {
          "base_uri": "https://localhost:8080/"
        },
        "id": "QR7SqYN18VzG",
        "outputId": "198bd635-027b-421a-b4f1-daa6af5ff9b7"
      },
      "execution_count": 80,
      "outputs": [
        {
          "output_type": "stream",
          "name": "stdout",
          "text": [
            "      Left Hand Side        Right Hand Side   Support  Confidence      Lift\n",
            "0                 10  fruit/vegetable juice  0.006133    0.251366  3.465988\n",
            "1                 10              margarine  0.005466    0.224044  3.734560\n",
            "2                 10        root vegetables  0.008132    0.333333  3.016084\n",
            "3                 11          domestic eggs  0.003866    0.218045  3.379249\n",
            "4                 11              margarine  0.003866    0.218045  3.634570\n",
            "5                 12          domestic eggs  0.003466    0.276596  4.286663\n",
            "6                 12  fruit/vegetable juice  0.003200    0.255319  3.520494\n",
            "7                 12       other vegetables  0.007599    0.606383  3.156474\n",
            "8                 12              pip fruit  0.003333    0.265957  3.445504\n",
            "9                 12        root vegetables  0.004399    0.351064  3.176514\n",
            "10                12         tropical fruit  0.004133    0.329787  3.139256\n",
            "11                12     whipped/sour cream  0.003333    0.265957  3.640414\n",
            "12                13     whipped/sour cream  0.003066    0.377049  5.161033\n",
            "13                13                 yogurt  0.003733    0.459016  3.342798\n",
            "14                14       other vegetables  0.004933    0.649123  3.378952\n",
            "15                14        root vegetables  0.003466    0.456140  4.127272\n",
            "16                14                 yogurt  0.003333    0.438596  3.194090\n",
            "17     baking powder                  sugar  0.003733    0.208955  6.269493\n",
            "18     baking powder     whipped/sour cream  0.005066    0.283582  3.881659\n",
            "19              beef        root vegetables  0.017598    0.346457  3.134827\n",
            "20           berries     whipped/sour cream  0.007732    0.250000  3.421989\n",
            "21            liquor           bottled beer  0.004533    0.409639  5.087250\n",
            "22    red/blush wine           bottled beer  0.004933    0.262411  3.258854\n",
            "23             flour              margarine  0.004133    0.234848  3.914663\n",
            "24             flour                  sugar  0.005066    0.287879  8.637515\n",
            "25             flour     whipped/sour cream  0.004133    0.234848  3.214596\n",
            "26           mustard            frankfurter  0.003066    0.230000  3.920977\n",
            "27  processed cheese  fruit/vegetable juice  0.003466    0.218487  3.012636\n",
            "28            grapes         tropical fruit  0.005999    0.326087  3.104033\n",
            "29  processed cheese                    ham  0.003333    0.210084  8.207502\n",
            "30               ham            white bread  0.005333    0.208333  4.823174\n",
            "31             herbs        root vegetables  0.006532    0.404959  3.664168\n",
            "32  processed cheese            white bread  0.004799    0.302521  7.003735\n",
            "33              rice        root vegetables  0.003200    0.406780  3.680644\n",
            "34     sliced cheese                sausage  0.006932    0.300578  3.239419\n",
            "35            turkey         tropical fruit  0.003066    0.348485  3.317240\n"
          ]
        }
      ]
    },
    {
      "cell_type": "markdown",
      "source": [
        "10. Kesimpulan"
      ],
      "metadata": {
        "id": "sMTS-f4qSPnZ"
      }
    },
    {
      "cell_type": "markdown",
      "source": [
        "Berdasarkan hasil perhitungan menggunakan python di atas dapat disimpulkan bahwa: pembeli yang membeli baking powder\n",
        " (bubuk pengembang) kemungkinan akan membeli sugar (gula), pembeli yang membeli baking powder (bubuk pengembang) kemungkinan juga akan membeli  (krim kue), pembeli yang membeli beef (daging sapi) kemungkinan akan membeli root vegetables (sayuran berakar), pembeli yang membeli berries (buah beri) kemungkinan akan membeli whipped/sour cream (krim kue), pembeli yang membeli liquor (minuman beralkohol) kemungkinan akan membeli bootled beer (bir botol), pembeli yang membeli red/blushwine (anggur merah) kemungkinan akan membeli bottled beer (bir botol), pembeli yang membeli flour (tepung) kemungkinan akan membeli margarine (mentega), pembeli yang membeli flour (tepung) kemungkinan akan membeli sugar (gula), pembeli yang membeli flour (tepung) kemungkinan akan membeli whipped/sour cream (krim kue), pembeli yang membeli mustard (saus moster) kemungkinan akan membeli frankfurter (sosis), pembeli yang membeli processed cheese (keju) kemungkinan akan membeli fruit/vegetable juice (jus sayur/buah), pembeli yang membeli grapes (anggur) kemungkinan akan membeli tropical fruit (buah tropis), pembeli yang membeli processed cheese (keju) kemungkinan akan membeli ham (daging babi yang dikeringkan), pembeli yang membeli ham (daging babi yang dikeringkan) kemungkinan akan membeli white bread (roti putih), pembeli yang membeli herbs (tanaman herba) kemungkinan akan membeli root vagetables (sayuran akar), pembeli yang membeli rice (beras) kemungkinan akan membeli root vegetables (sayuran berakar), pembeli yang membeli sliced cheese (irisan keju) kemungkinan akan membeli sausage (sosis), dan pembeli yang membeli turkey (ayam kalkun) kemungkinan akan membeli tropical fruit (buah tropis)."
      ],
      "metadata": {
        "id": "9sZ84ArdIVZg"
      }
    },
    {
      "cell_type": "markdown",
      "source": [
        "Terima kasih"
      ],
      "metadata": {
        "id": "6eXiG517R5st"
      }
    }
  ]
}